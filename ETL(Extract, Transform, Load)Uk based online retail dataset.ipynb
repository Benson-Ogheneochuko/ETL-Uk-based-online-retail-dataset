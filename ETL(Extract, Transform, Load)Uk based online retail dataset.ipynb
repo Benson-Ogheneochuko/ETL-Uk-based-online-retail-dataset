{
 "cells": [
  {
   "cell_type": "code",
   "execution_count": 1,
   "metadata": {},
   "outputs": [],
   "source": [
    "# import necessary libraries\n",
    "import pandas as pd, numpy as np, psycopg2;"
   ]
  },
  {
   "cell_type": "markdown",
   "metadata": {},
   "source": [
    "###### VIEW DATAFRAME"
   ]
  },
  {
   "cell_type": "code",
   "execution_count": 2,
   "metadata": {},
   "outputs": [
    {
     "data": {
      "text/html": [
       "<div>\n",
       "<style scoped>\n",
       "    .dataframe tbody tr th:only-of-type {\n",
       "        vertical-align: middle;\n",
       "    }\n",
       "\n",
       "    .dataframe tbody tr th {\n",
       "        vertical-align: top;\n",
       "    }\n",
       "\n",
       "    .dataframe thead th {\n",
       "        text-align: right;\n",
       "    }\n",
       "</style>\n",
       "<table border=\"1\" class=\"dataframe\">\n",
       "  <thead>\n",
       "    <tr style=\"text-align: right;\">\n",
       "      <th></th>\n",
       "      <th>InvoiceNo</th>\n",
       "      <th>StockCode</th>\n",
       "      <th>Description</th>\n",
       "      <th>Quantity</th>\n",
       "      <th>InvoiceDate</th>\n",
       "      <th>UnitPrice</th>\n",
       "      <th>CustomerID</th>\n",
       "      <th>Country</th>\n",
       "    </tr>\n",
       "  </thead>\n",
       "  <tbody>\n",
       "    <tr>\n",
       "      <th>0</th>\n",
       "      <td>536365</td>\n",
       "      <td>85123A</td>\n",
       "      <td>WHITE HANGING HEART T-LIGHT HOLDER</td>\n",
       "      <td>6</td>\n",
       "      <td>2010-12-01 08:26:00</td>\n",
       "      <td>2.55</td>\n",
       "      <td>17850.0</td>\n",
       "      <td>United Kingdom</td>\n",
       "    </tr>\n",
       "    <tr>\n",
       "      <th>1</th>\n",
       "      <td>536365</td>\n",
       "      <td>71053</td>\n",
       "      <td>WHITE METAL LANTERN</td>\n",
       "      <td>6</td>\n",
       "      <td>2010-12-01 08:26:00</td>\n",
       "      <td>3.39</td>\n",
       "      <td>17850.0</td>\n",
       "      <td>United Kingdom</td>\n",
       "    </tr>\n",
       "    <tr>\n",
       "      <th>2</th>\n",
       "      <td>536365</td>\n",
       "      <td>84406B</td>\n",
       "      <td>CREAM CUPID HEARTS COAT HANGER</td>\n",
       "      <td>8</td>\n",
       "      <td>2010-12-01 08:26:00</td>\n",
       "      <td>2.75</td>\n",
       "      <td>17850.0</td>\n",
       "      <td>United Kingdom</td>\n",
       "    </tr>\n",
       "    <tr>\n",
       "      <th>3</th>\n",
       "      <td>536365</td>\n",
       "      <td>84029G</td>\n",
       "      <td>KNITTED UNION FLAG HOT WATER BOTTLE</td>\n",
       "      <td>6</td>\n",
       "      <td>2010-12-01 08:26:00</td>\n",
       "      <td>3.39</td>\n",
       "      <td>17850.0</td>\n",
       "      <td>United Kingdom</td>\n",
       "    </tr>\n",
       "    <tr>\n",
       "      <th>4</th>\n",
       "      <td>536365</td>\n",
       "      <td>84029E</td>\n",
       "      <td>RED WOOLLY HOTTIE WHITE HEART.</td>\n",
       "      <td>6</td>\n",
       "      <td>2010-12-01 08:26:00</td>\n",
       "      <td>3.39</td>\n",
       "      <td>17850.0</td>\n",
       "      <td>United Kingdom</td>\n",
       "    </tr>\n",
       "  </tbody>\n",
       "</table>\n",
       "</div>"
      ],
      "text/plain": [
       "  InvoiceNo StockCode                          Description  Quantity  \\\n",
       "0    536365    85123A   WHITE HANGING HEART T-LIGHT HOLDER         6   \n",
       "1    536365     71053                  WHITE METAL LANTERN         6   \n",
       "2    536365    84406B       CREAM CUPID HEARTS COAT HANGER         8   \n",
       "3    536365    84029G  KNITTED UNION FLAG HOT WATER BOTTLE         6   \n",
       "4    536365    84029E       RED WOOLLY HOTTIE WHITE HEART.         6   \n",
       "\n",
       "          InvoiceDate  UnitPrice  CustomerID         Country  \n",
       "0 2010-12-01 08:26:00       2.55     17850.0  United Kingdom  \n",
       "1 2010-12-01 08:26:00       3.39     17850.0  United Kingdom  \n",
       "2 2010-12-01 08:26:00       2.75     17850.0  United Kingdom  \n",
       "3 2010-12-01 08:26:00       3.39     17850.0  United Kingdom  \n",
       "4 2010-12-01 08:26:00       3.39     17850.0  United Kingdom  "
      ]
     },
     "execution_count": 2,
     "metadata": {},
     "output_type": "execute_result"
    }
   ],
   "source": [
    "raw_df = pd.read_excel('Online Retail.xlsx') # link - 'https://archive.ics.uci.edu/dataset/352/online+retail'\n",
    "raw_df.head()"
   ]
  },
  {
   "cell_type": "markdown",
   "metadata": {},
   "source": [
    "###### RENAME DATAFRAME COLUMNS FOLLOWING RECOMMENDED NAMEING CONVENTIONS"
   ]
  },
  {
   "cell_type": "code",
   "execution_count": 3,
   "metadata": {},
   "outputs": [
    {
     "data": {
      "text/html": [
       "<div>\n",
       "<style scoped>\n",
       "    .dataframe tbody tr th:only-of-type {\n",
       "        vertical-align: middle;\n",
       "    }\n",
       "\n",
       "    .dataframe tbody tr th {\n",
       "        vertical-align: top;\n",
       "    }\n",
       "\n",
       "    .dataframe thead th {\n",
       "        text-align: right;\n",
       "    }\n",
       "</style>\n",
       "<table border=\"1\" class=\"dataframe\">\n",
       "  <thead>\n",
       "    <tr style=\"text-align: right;\">\n",
       "      <th></th>\n",
       "      <th>invoice_no</th>\n",
       "      <th>stockcode</th>\n",
       "      <th>description</th>\n",
       "      <th>quantity</th>\n",
       "      <th>invoice_date</th>\n",
       "      <th>unitprice</th>\n",
       "      <th>customer_id</th>\n",
       "      <th>country</th>\n",
       "    </tr>\n",
       "  </thead>\n",
       "  <tbody>\n",
       "    <tr>\n",
       "      <th>0</th>\n",
       "      <td>536365</td>\n",
       "      <td>85123A</td>\n",
       "      <td>WHITE HANGING HEART T-LIGHT HOLDER</td>\n",
       "      <td>6</td>\n",
       "      <td>2010-12-01 08:26:00</td>\n",
       "      <td>2.55</td>\n",
       "      <td>17850.0</td>\n",
       "      <td>United Kingdom</td>\n",
       "    </tr>\n",
       "    <tr>\n",
       "      <th>1</th>\n",
       "      <td>536365</td>\n",
       "      <td>71053</td>\n",
       "      <td>WHITE METAL LANTERN</td>\n",
       "      <td>6</td>\n",
       "      <td>2010-12-01 08:26:00</td>\n",
       "      <td>3.39</td>\n",
       "      <td>17850.0</td>\n",
       "      <td>United Kingdom</td>\n",
       "    </tr>\n",
       "    <tr>\n",
       "      <th>2</th>\n",
       "      <td>536365</td>\n",
       "      <td>84406B</td>\n",
       "      <td>CREAM CUPID HEARTS COAT HANGER</td>\n",
       "      <td>8</td>\n",
       "      <td>2010-12-01 08:26:00</td>\n",
       "      <td>2.75</td>\n",
       "      <td>17850.0</td>\n",
       "      <td>United Kingdom</td>\n",
       "    </tr>\n",
       "    <tr>\n",
       "      <th>3</th>\n",
       "      <td>536365</td>\n",
       "      <td>84029G</td>\n",
       "      <td>KNITTED UNION FLAG HOT WATER BOTTLE</td>\n",
       "      <td>6</td>\n",
       "      <td>2010-12-01 08:26:00</td>\n",
       "      <td>3.39</td>\n",
       "      <td>17850.0</td>\n",
       "      <td>United Kingdom</td>\n",
       "    </tr>\n",
       "    <tr>\n",
       "      <th>4</th>\n",
       "      <td>536365</td>\n",
       "      <td>84029E</td>\n",
       "      <td>RED WOOLLY HOTTIE WHITE HEART.</td>\n",
       "      <td>6</td>\n",
       "      <td>2010-12-01 08:26:00</td>\n",
       "      <td>3.39</td>\n",
       "      <td>17850.0</td>\n",
       "      <td>United Kingdom</td>\n",
       "    </tr>\n",
       "  </tbody>\n",
       "</table>\n",
       "</div>"
      ],
      "text/plain": [
       "  invoice_no stockcode                          description  quantity  \\\n",
       "0     536365    85123A   WHITE HANGING HEART T-LIGHT HOLDER         6   \n",
       "1     536365     71053                  WHITE METAL LANTERN         6   \n",
       "2     536365    84406B       CREAM CUPID HEARTS COAT HANGER         8   \n",
       "3     536365    84029G  KNITTED UNION FLAG HOT WATER BOTTLE         6   \n",
       "4     536365    84029E       RED WOOLLY HOTTIE WHITE HEART.         6   \n",
       "\n",
       "         invoice_date  unitprice  customer_id         country  \n",
       "0 2010-12-01 08:26:00       2.55      17850.0  United Kingdom  \n",
       "1 2010-12-01 08:26:00       3.39      17850.0  United Kingdom  \n",
       "2 2010-12-01 08:26:00       2.75      17850.0  United Kingdom  \n",
       "3 2010-12-01 08:26:00       3.39      17850.0  United Kingdom  \n",
       "4 2010-12-01 08:26:00       3.39      17850.0  United Kingdom  "
      ]
     },
     "execution_count": 3,
     "metadata": {},
     "output_type": "execute_result"
    }
   ],
   "source": [
    "new_columns = ['invoice_no', 'stockcode', 'description', 'quantity', 'invoice_date', 'unitprice', 'customer_id', 'country']\n",
    "raw_df.columns = new_columns\n",
    "raw_df.head()"
   ]
  },
  {
   "cell_type": "code",
   "execution_count": 4,
   "metadata": {},
   "outputs": [
    {
     "name": "stdout",
     "output_type": "stream",
     "text": [
      "(541909, 8)\n",
      "<class 'pandas.core.frame.DataFrame'>\n",
      "RangeIndex: 541909 entries, 0 to 541908\n",
      "Data columns (total 8 columns):\n",
      " #   Column        Non-Null Count   Dtype         \n",
      "---  ------        --------------   -----         \n",
      " 0   invoice_no    541909 non-null  object        \n",
      " 1   stockcode     541909 non-null  object        \n",
      " 2   description   540455 non-null  object        \n",
      " 3   quantity      541909 non-null  int64         \n",
      " 4   invoice_date  541909 non-null  datetime64[ns]\n",
      " 5   unitprice     541909 non-null  float64       \n",
      " 6   customer_id   406829 non-null  float64       \n",
      " 7   country       541909 non-null  object        \n",
      "dtypes: datetime64[ns](1), float64(2), int64(1), object(4)\n",
      "memory usage: 33.1+ MB\n"
     ]
    }
   ],
   "source": [
    "print(raw_df.shape)\n",
    "raw_df.info()"
   ]
  },
  {
   "cell_type": "markdown",
   "metadata": {},
   "source": [
    "###### CHECK FOR MISSING VALUES"
   ]
  },
  {
   "cell_type": "code",
   "execution_count": 5,
   "metadata": {},
   "outputs": [
    {
     "data": {
      "text/plain": [
       "invoice_no           0\n",
       "stockcode            0\n",
       "description       1454\n",
       "quantity             0\n",
       "invoice_date         0\n",
       "unitprice            0\n",
       "customer_id     135080\n",
       "country              0\n",
       "dtype: int64"
      ]
     },
     "execution_count": 5,
     "metadata": {},
     "output_type": "execute_result"
    }
   ],
   "source": [
    "raw_df.isna().sum()"
   ]
  },
  {
   "cell_type": "markdown",
   "metadata": {},
   "source": [
    "#### DATA CLEANING"
   ]
  },
  {
   "cell_type": "markdown",
   "metadata": {},
   "source": [
    "<small>_check for different value types in individual columns/attributes._<small>"
   ]
  },
  {
   "cell_type": "code",
   "execution_count": 6,
   "metadata": {},
   "outputs": [
    {
     "name": "stdout",
     "output_type": "stream",
     "text": [
      "invoice_no: invoice_no\n",
      "<class 'int'>    532618\n",
      "<class 'str'>      9291\n",
      "Name: count, dtype: int64\n",
      "stockcode: stockcode\n",
      "<class 'int'>    487036\n",
      "<class 'str'>     54873\n",
      "Name: count, dtype: int64\n",
      "description: description\n",
      "<class 'str'>      540454\n",
      "<class 'float'>      1454\n",
      "<class 'int'>           1\n",
      "Name: count, dtype: int64\n",
      "quantity: quantity\n",
      "<class 'int'>    541909\n",
      "Name: count, dtype: int64\n",
      "invoice_date: invoice_date\n",
      "<class 'pandas._libs.tslibs.timestamps.Timestamp'>    541909\n",
      "Name: count, dtype: int64\n",
      "unitprice: unitprice\n",
      "<class 'float'>    541909\n",
      "Name: count, dtype: int64\n",
      "customer_id: customer_id\n",
      "<class 'float'>    541909\n",
      "Name: count, dtype: int64\n",
      "country: country\n",
      "<class 'str'>    541909\n",
      "Name: count, dtype: int64\n"
     ]
    }
   ],
   "source": [
    "for col in raw_df.columns:\n",
    "    type_counts = raw_df[col].apply(type).value_counts()\n",
    "    print(f'{col}: {type_counts}')"
   ]
  },
  {
   "cell_type": "markdown",
   "metadata": {},
   "source": [
    "_<small>we can see that stockcode, descrtption and invoice_no contail multiple data types in their columns.\n",
    "**Description**:\n",
    "from earlier, we saw that the description attribute contains null values; pandas recognize missing data as float so we need to confirm if there are really numbers with decimal points or null values read as float.\n",
    "But first we cast the entire column as string.<small>_"
   ]
  },
  {
   "cell_type": "code",
   "execution_count": 8,
   "metadata": {},
   "outputs": [],
   "source": [
    "disc_type_errors = raw_df[raw_df['description'].apply(type).isin([float,int]) & (raw_df['description'].isna() == False) ]\n",
    "\n",
    "# convert int field to string\n",
    "raw_df.loc[disc_type_errors.index, 'description'] = raw_df.loc[disc_type_errors.index, 'description'].astype(str)"
   ]
  },
  {
   "cell_type": "code",
   "execution_count": 9,
   "metadata": {},
   "outputs": [
    {
     "name": "stdout",
     "output_type": "stream",
     "text": [
      "\n",
      "    isna sum: 1454,\n",
      "    float sum: 1454\n",
      "    \n"
     ]
    }
   ],
   "source": [
    "print(f'''\n",
    "    isna sum: {raw_df['description'].isna().sum()},\n",
    "    float sum: {(raw_df['description'].apply(type) == float).sum()}\n",
    "    '''\n",
    ")\n",
    "\n",
    "# null values are read as float"
   ]
  },
  {
   "cell_type": "code",
   "execution_count": 10,
   "metadata": {},
   "outputs": [
    {
     "name": "stdout",
     "output_type": "stream",
     "text": [
      "1    71053\n",
      "5    22752\n",
      "6    21730\n",
      "7    22633\n",
      "8    22632\n",
      "Name: stockcode, dtype: object \n",
      " 0     85123A\n",
      "2     84406B\n",
      "3     84029G\n",
      "4     84029E\n",
      "45      POST\n",
      "Name: stockcode, dtype: object\n"
     ]
    }
   ],
   "source": [
    "# clean stock code column\n",
    "stockcode_int = raw_df[raw_df['stockcode'].apply(type) == int]\n",
    "stockcode_str = raw_df[raw_df['stockcode'].apply(type) == str]\n",
    "print(stockcode_int['stockcode'].head(), '\\n' , stockcode_str['stockcode'].head())"
   ]
  },
  {
   "cell_type": "code",
   "execution_count": 11,
   "metadata": {},
   "outputs": [
    {
     "data": {
      "text/plain": [
       "(0, 8)"
      ]
     },
     "execution_count": 11,
     "metadata": {},
     "output_type": "execute_result"
    }
   ],
   "source": [
    "raw_df.loc[stockcode_int.index, 'stockcode'] = raw_df.loc[stockcode_int.index,'stockcode'].astype(str)\n",
    "raw_df[raw_df['stockcode'].apply(type) == int].shape"
   ]
  },
  {
   "cell_type": "code",
   "execution_count": 12,
   "metadata": {},
   "outputs": [
    {
     "name": "stdout",
     "output_type": "stream",
     "text": [
      "0    536365\n",
      "1    536365\n",
      "2    536365\n",
      "3    536365\n",
      "4    536365\n",
      "Name: invoice_no, dtype: object \n",
      " 141    C536379\n",
      "154    C536383\n",
      "235    C536391\n",
      "236    C536391\n",
      "237    C536391\n",
      "Name: invoice_no, dtype: object\n"
     ]
    }
   ],
   "source": [
    "# clean InvoiceNo column\n",
    "InvoiceNo_int = raw_df[raw_df['invoice_no'].apply(type) == int]\n",
    "InvoiceNo_str = raw_df[raw_df['invoice_no'].apply(type) == str]\n",
    "print(InvoiceNo_int['invoice_no'].head(), '\\n' , InvoiceNo_str['invoice_no'].head())"
   ]
  },
  {
   "cell_type": "code",
   "execution_count": 13,
   "metadata": {},
   "outputs": [
    {
     "data": {
      "text/plain": [
       "(0, 8)"
      ]
     },
     "execution_count": 13,
     "metadata": {},
     "output_type": "execute_result"
    }
   ],
   "source": [
    "raw_df.loc[InvoiceNo_int.index,'invoice_no'] = raw_df.loc[InvoiceNo_int.index,'invoice_no'].astype(str)\n",
    "raw_df[raw_df['invoice_no'].apply(type) == int].shape"
   ]
  },
  {
   "cell_type": "markdown",
   "metadata": {},
   "source": [
    "##### HANDLE DUPLICATES"
   ]
  },
  {
   "cell_type": "code",
   "execution_count": 14,
   "metadata": {},
   "outputs": [
    {
     "data": {
      "text/html": [
       "<div>\n",
       "<style scoped>\n",
       "    .dataframe tbody tr th:only-of-type {\n",
       "        vertical-align: middle;\n",
       "    }\n",
       "\n",
       "    .dataframe tbody tr th {\n",
       "        vertical-align: top;\n",
       "    }\n",
       "\n",
       "    .dataframe thead th {\n",
       "        text-align: right;\n",
       "    }\n",
       "</style>\n",
       "<table border=\"1\" class=\"dataframe\">\n",
       "  <thead>\n",
       "    <tr style=\"text-align: right;\">\n",
       "      <th></th>\n",
       "      <th>invoice_no</th>\n",
       "      <th>stockcode</th>\n",
       "      <th>description</th>\n",
       "      <th>quantity</th>\n",
       "      <th>invoice_date</th>\n",
       "      <th>unitprice</th>\n",
       "      <th>customer_id</th>\n",
       "      <th>country</th>\n",
       "    </tr>\n",
       "  </thead>\n",
       "  <tbody>\n",
       "    <tr>\n",
       "      <th>288741</th>\n",
       "      <td>562204</td>\n",
       "      <td>90209B</td>\n",
       "      <td>GREEN ENAMEL+GLASS HAIR COMB</td>\n",
       "      <td>1</td>\n",
       "      <td>2011-08-03 12:54:00</td>\n",
       "      <td>2.10</td>\n",
       "      <td>16324.0</td>\n",
       "      <td>United Kingdom</td>\n",
       "    </tr>\n",
       "    <tr>\n",
       "      <th>288744</th>\n",
       "      <td>562204</td>\n",
       "      <td>90209B</td>\n",
       "      <td>GREEN ENAMEL+GLASS HAIR COMB</td>\n",
       "      <td>1</td>\n",
       "      <td>2011-08-03 12:54:00</td>\n",
       "      <td>2.10</td>\n",
       "      <td>16324.0</td>\n",
       "      <td>United Kingdom</td>\n",
       "    </tr>\n",
       "    <tr>\n",
       "      <th>414141</th>\n",
       "      <td>572344</td>\n",
       "      <td>M</td>\n",
       "      <td>Manual</td>\n",
       "      <td>48</td>\n",
       "      <td>2011-10-24 10:43:00</td>\n",
       "      <td>1.50</td>\n",
       "      <td>14607.0</td>\n",
       "      <td>United Kingdom</td>\n",
       "    </tr>\n",
       "    <tr>\n",
       "      <th>414140</th>\n",
       "      <td>572344</td>\n",
       "      <td>M</td>\n",
       "      <td>Manual</td>\n",
       "      <td>48</td>\n",
       "      <td>2011-10-24 10:43:00</td>\n",
       "      <td>1.50</td>\n",
       "      <td>14607.0</td>\n",
       "      <td>United Kingdom</td>\n",
       "    </tr>\n",
       "    <tr>\n",
       "      <th>414142</th>\n",
       "      <td>572344</td>\n",
       "      <td>M</td>\n",
       "      <td>Manual</td>\n",
       "      <td>48</td>\n",
       "      <td>2011-10-24 10:43:00</td>\n",
       "      <td>1.50</td>\n",
       "      <td>14607.0</td>\n",
       "      <td>United Kingdom</td>\n",
       "    </tr>\n",
       "    <tr>\n",
       "      <th>414143</th>\n",
       "      <td>572344</td>\n",
       "      <td>M</td>\n",
       "      <td>Manual</td>\n",
       "      <td>48</td>\n",
       "      <td>2011-10-24 10:43:00</td>\n",
       "      <td>1.50</td>\n",
       "      <td>14607.0</td>\n",
       "      <td>United Kingdom</td>\n",
       "    </tr>\n",
       "    <tr>\n",
       "      <th>414144</th>\n",
       "      <td>572344</td>\n",
       "      <td>M</td>\n",
       "      <td>Manual</td>\n",
       "      <td>48</td>\n",
       "      <td>2011-10-24 10:43:00</td>\n",
       "      <td>1.50</td>\n",
       "      <td>14607.0</td>\n",
       "      <td>United Kingdom</td>\n",
       "    </tr>\n",
       "    <tr>\n",
       "      <th>414139</th>\n",
       "      <td>572344</td>\n",
       "      <td>M</td>\n",
       "      <td>Manual</td>\n",
       "      <td>48</td>\n",
       "      <td>2011-10-24 10:43:00</td>\n",
       "      <td>1.50</td>\n",
       "      <td>14607.0</td>\n",
       "      <td>United Kingdom</td>\n",
       "    </tr>\n",
       "    <tr>\n",
       "      <th>96685</th>\n",
       "      <td>C544580</td>\n",
       "      <td>S</td>\n",
       "      <td>SAMPLES</td>\n",
       "      <td>-1</td>\n",
       "      <td>2011-02-21 14:25:00</td>\n",
       "      <td>9.74</td>\n",
       "      <td>NaN</td>\n",
       "      <td>United Kingdom</td>\n",
       "    </tr>\n",
       "    <tr>\n",
       "      <th>96695</th>\n",
       "      <td>C544580</td>\n",
       "      <td>S</td>\n",
       "      <td>SAMPLES</td>\n",
       "      <td>-1</td>\n",
       "      <td>2011-02-21 14:25:00</td>\n",
       "      <td>9.74</td>\n",
       "      <td>NaN</td>\n",
       "      <td>United Kingdom</td>\n",
       "    </tr>\n",
       "  </tbody>\n",
       "</table>\n",
       "</div>"
      ],
      "text/plain": [
       "       invoice_no stockcode                   description  quantity  \\\n",
       "288741     562204    90209B  GREEN ENAMEL+GLASS HAIR COMB         1   \n",
       "288744     562204    90209B  GREEN ENAMEL+GLASS HAIR COMB         1   \n",
       "414141     572344         M                        Manual        48   \n",
       "414140     572344         M                        Manual        48   \n",
       "414142     572344         M                        Manual        48   \n",
       "414143     572344         M                        Manual        48   \n",
       "414144     572344         M                        Manual        48   \n",
       "414139     572344         M                        Manual        48   \n",
       "96685     C544580         S                       SAMPLES        -1   \n",
       "96695     C544580         S                       SAMPLES        -1   \n",
       "\n",
       "              invoice_date  unitprice  customer_id         country  \n",
       "288741 2011-08-03 12:54:00       2.10      16324.0  United Kingdom  \n",
       "288744 2011-08-03 12:54:00       2.10      16324.0  United Kingdom  \n",
       "414141 2011-10-24 10:43:00       1.50      14607.0  United Kingdom  \n",
       "414140 2011-10-24 10:43:00       1.50      14607.0  United Kingdom  \n",
       "414142 2011-10-24 10:43:00       1.50      14607.0  United Kingdom  \n",
       "414143 2011-10-24 10:43:00       1.50      14607.0  United Kingdom  \n",
       "414144 2011-10-24 10:43:00       1.50      14607.0  United Kingdom  \n",
       "414139 2011-10-24 10:43:00       1.50      14607.0  United Kingdom  \n",
       "96685  2011-02-21 14:25:00       9.74          NaN  United Kingdom  \n",
       "96695  2011-02-21 14:25:00       9.74          NaN  United Kingdom  "
      ]
     },
     "execution_count": 14,
     "metadata": {},
     "output_type": "execute_result"
    }
   ],
   "source": [
    "dupes = raw_df[raw_df.duplicated(keep=False)]\n",
    "dupes.sort_values(by='stockcode').tail(10)"
   ]
  },
  {
   "cell_type": "code",
   "execution_count": 15,
   "metadata": {},
   "outputs": [
    {
     "data": {
      "text/plain": [
       "(0, 8)"
      ]
     },
     "execution_count": 15,
     "metadata": {},
     "output_type": "execute_result"
    }
   ],
   "source": [
    "clean_df = raw_df.drop_duplicates()\n",
    "clean_df[clean_df.duplicated()].shape"
   ]
  },
  {
   "cell_type": "markdown",
   "metadata": {},
   "source": [
    "##### HANDLE MISSING VALUES"
   ]
  },
  {
   "cell_type": "code",
   "execution_count": 16,
   "metadata": {},
   "outputs": [
    {
     "data": {
      "text/plain": [
       "invoice_no           0\n",
       "stockcode            0\n",
       "description       1454\n",
       "quantity             0\n",
       "invoice_date         0\n",
       "unitprice            0\n",
       "customer_id     135037\n",
       "country              0\n",
       "dtype: int64"
      ]
     },
     "execution_count": 16,
     "metadata": {},
     "output_type": "execute_result"
    }
   ],
   "source": [
    "clean_df.isna().sum()"
   ]
  },
  {
   "cell_type": "markdown",
   "metadata": {},
   "source": [
    "###### SPLIT DATAFRAME INTO TWO; ONE CONTAINING MISSING VALUES AND ONE FOR WITHOUT"
   ]
  },
  {
   "cell_type": "code",
   "execution_count": 17,
   "metadata": {},
   "outputs": [
    {
     "data": {
      "text/html": [
       "<div>\n",
       "<style scoped>\n",
       "    .dataframe tbody tr th:only-of-type {\n",
       "        vertical-align: middle;\n",
       "    }\n",
       "\n",
       "    .dataframe tbody tr th {\n",
       "        vertical-align: top;\n",
       "    }\n",
       "\n",
       "    .dataframe thead th {\n",
       "        text-align: right;\n",
       "    }\n",
       "</style>\n",
       "<table border=\"1\" class=\"dataframe\">\n",
       "  <thead>\n",
       "    <tr style=\"text-align: right;\">\n",
       "      <th></th>\n",
       "      <th>invoice_no</th>\n",
       "      <th>stockcode</th>\n",
       "      <th>description</th>\n",
       "      <th>quantity</th>\n",
       "      <th>invoice_date</th>\n",
       "      <th>unitprice</th>\n",
       "      <th>customer_id</th>\n",
       "      <th>country</th>\n",
       "    </tr>\n",
       "  </thead>\n",
       "  <tbody>\n",
       "    <tr>\n",
       "      <th>622</th>\n",
       "      <td>536414</td>\n",
       "      <td>22139</td>\n",
       "      <td>NaN</td>\n",
       "      <td>56</td>\n",
       "      <td>2010-12-01 11:52:00</td>\n",
       "      <td>0.00</td>\n",
       "      <td>NaN</td>\n",
       "      <td>United Kingdom</td>\n",
       "    </tr>\n",
       "    <tr>\n",
       "      <th>1443</th>\n",
       "      <td>536544</td>\n",
       "      <td>21773</td>\n",
       "      <td>DECORATIVE ROSE BATHROOM BOTTLE</td>\n",
       "      <td>1</td>\n",
       "      <td>2010-12-01 14:32:00</td>\n",
       "      <td>2.51</td>\n",
       "      <td>NaN</td>\n",
       "      <td>United Kingdom</td>\n",
       "    </tr>\n",
       "    <tr>\n",
       "      <th>1444</th>\n",
       "      <td>536544</td>\n",
       "      <td>21774</td>\n",
       "      <td>DECORATIVE CATS BATHROOM BOTTLE</td>\n",
       "      <td>2</td>\n",
       "      <td>2010-12-01 14:32:00</td>\n",
       "      <td>2.51</td>\n",
       "      <td>NaN</td>\n",
       "      <td>United Kingdom</td>\n",
       "    </tr>\n",
       "    <tr>\n",
       "      <th>1445</th>\n",
       "      <td>536544</td>\n",
       "      <td>21786</td>\n",
       "      <td>POLKADOT RAIN HAT</td>\n",
       "      <td>4</td>\n",
       "      <td>2010-12-01 14:32:00</td>\n",
       "      <td>0.85</td>\n",
       "      <td>NaN</td>\n",
       "      <td>United Kingdom</td>\n",
       "    </tr>\n",
       "    <tr>\n",
       "      <th>1446</th>\n",
       "      <td>536544</td>\n",
       "      <td>21787</td>\n",
       "      <td>RAIN PONCHO RETROSPOT</td>\n",
       "      <td>2</td>\n",
       "      <td>2010-12-01 14:32:00</td>\n",
       "      <td>1.66</td>\n",
       "      <td>NaN</td>\n",
       "      <td>United Kingdom</td>\n",
       "    </tr>\n",
       "    <tr>\n",
       "      <th>...</th>\n",
       "      <td>...</td>\n",
       "      <td>...</td>\n",
       "      <td>...</td>\n",
       "      <td>...</td>\n",
       "      <td>...</td>\n",
       "      <td>...</td>\n",
       "      <td>...</td>\n",
       "      <td>...</td>\n",
       "    </tr>\n",
       "    <tr>\n",
       "      <th>541536</th>\n",
       "      <td>581498</td>\n",
       "      <td>85099B</td>\n",
       "      <td>JUMBO BAG RED RETROSPOT</td>\n",
       "      <td>5</td>\n",
       "      <td>2011-12-09 10:26:00</td>\n",
       "      <td>4.13</td>\n",
       "      <td>NaN</td>\n",
       "      <td>United Kingdom</td>\n",
       "    </tr>\n",
       "    <tr>\n",
       "      <th>541537</th>\n",
       "      <td>581498</td>\n",
       "      <td>85099C</td>\n",
       "      <td>JUMBO  BAG BAROQUE BLACK WHITE</td>\n",
       "      <td>4</td>\n",
       "      <td>2011-12-09 10:26:00</td>\n",
       "      <td>4.13</td>\n",
       "      <td>NaN</td>\n",
       "      <td>United Kingdom</td>\n",
       "    </tr>\n",
       "    <tr>\n",
       "      <th>541538</th>\n",
       "      <td>581498</td>\n",
       "      <td>85150</td>\n",
       "      <td>LADIES &amp; GENTLEMEN METAL SIGN</td>\n",
       "      <td>1</td>\n",
       "      <td>2011-12-09 10:26:00</td>\n",
       "      <td>4.96</td>\n",
       "      <td>NaN</td>\n",
       "      <td>United Kingdom</td>\n",
       "    </tr>\n",
       "    <tr>\n",
       "      <th>541539</th>\n",
       "      <td>581498</td>\n",
       "      <td>85174</td>\n",
       "      <td>S/4 CACTI CANDLES</td>\n",
       "      <td>1</td>\n",
       "      <td>2011-12-09 10:26:00</td>\n",
       "      <td>10.79</td>\n",
       "      <td>NaN</td>\n",
       "      <td>United Kingdom</td>\n",
       "    </tr>\n",
       "    <tr>\n",
       "      <th>541540</th>\n",
       "      <td>581498</td>\n",
       "      <td>DOT</td>\n",
       "      <td>DOTCOM POSTAGE</td>\n",
       "      <td>1</td>\n",
       "      <td>2011-12-09 10:26:00</td>\n",
       "      <td>1714.17</td>\n",
       "      <td>NaN</td>\n",
       "      <td>United Kingdom</td>\n",
       "    </tr>\n",
       "  </tbody>\n",
       "</table>\n",
       "<p>135037 rows × 8 columns</p>\n",
       "</div>"
      ],
      "text/plain": [
       "       invoice_no stockcode                      description  quantity  \\\n",
       "622        536414     22139                              NaN        56   \n",
       "1443       536544     21773  DECORATIVE ROSE BATHROOM BOTTLE         1   \n",
       "1444       536544     21774  DECORATIVE CATS BATHROOM BOTTLE         2   \n",
       "1445       536544     21786               POLKADOT RAIN HAT          4   \n",
       "1446       536544     21787            RAIN PONCHO RETROSPOT         2   \n",
       "...           ...       ...                              ...       ...   \n",
       "541536     581498    85099B          JUMBO BAG RED RETROSPOT         5   \n",
       "541537     581498    85099C   JUMBO  BAG BAROQUE BLACK WHITE         4   \n",
       "541538     581498     85150    LADIES & GENTLEMEN METAL SIGN         1   \n",
       "541539     581498     85174                S/4 CACTI CANDLES         1   \n",
       "541540     581498       DOT                   DOTCOM POSTAGE         1   \n",
       "\n",
       "              invoice_date  unitprice  customer_id         country  \n",
       "622    2010-12-01 11:52:00       0.00          NaN  United Kingdom  \n",
       "1443   2010-12-01 14:32:00       2.51          NaN  United Kingdom  \n",
       "1444   2010-12-01 14:32:00       2.51          NaN  United Kingdom  \n",
       "1445   2010-12-01 14:32:00       0.85          NaN  United Kingdom  \n",
       "1446   2010-12-01 14:32:00       1.66          NaN  United Kingdom  \n",
       "...                    ...        ...          ...             ...  \n",
       "541536 2011-12-09 10:26:00       4.13          NaN  United Kingdom  \n",
       "541537 2011-12-09 10:26:00       4.13          NaN  United Kingdom  \n",
       "541538 2011-12-09 10:26:00       4.96          NaN  United Kingdom  \n",
       "541539 2011-12-09 10:26:00      10.79          NaN  United Kingdom  \n",
       "541540 2011-12-09 10:26:00    1714.17          NaN  United Kingdom  \n",
       "\n",
       "[135037 rows x 8 columns]"
      ]
     },
     "execution_count": 17,
     "metadata": {},
     "output_type": "execute_result"
    }
   ],
   "source": [
    "missing_customer_id = clean_df[clean_df['customer_id'].isna()]\n",
    "valid_customer_id = clean_df.loc[~clean_df['customer_id'].isna()]\n",
    "missing_customer_id"
   ]
  },
  {
   "cell_type": "markdown",
   "metadata": {},
   "source": [
    "<small>_check for matching 'invoice_no' between dataframe with missing values and dataframe without missing values; where there is a 'customer_id' missing but the invoice matches an invoice in the dataframe without missing values, we can fill in the customer_id from the dataframe without missing values_<small>"
   ]
  },
  {
   "cell_type": "code",
   "execution_count": 18,
   "metadata": {},
   "outputs": [
    {
     "data": {
      "text/html": [
       "<div>\n",
       "<style scoped>\n",
       "    .dataframe tbody tr th:only-of-type {\n",
       "        vertical-align: middle;\n",
       "    }\n",
       "\n",
       "    .dataframe tbody tr th {\n",
       "        vertical-align: top;\n",
       "    }\n",
       "\n",
       "    .dataframe thead th {\n",
       "        text-align: right;\n",
       "    }\n",
       "</style>\n",
       "<table border=\"1\" class=\"dataframe\">\n",
       "  <thead>\n",
       "    <tr style=\"text-align: right;\">\n",
       "      <th></th>\n",
       "      <th>invoice_no</th>\n",
       "      <th>stockcode</th>\n",
       "      <th>description</th>\n",
       "      <th>quantity</th>\n",
       "      <th>invoice_date</th>\n",
       "      <th>unitprice</th>\n",
       "      <th>customer_id</th>\n",
       "      <th>country</th>\n",
       "    </tr>\n",
       "  </thead>\n",
       "  <tbody>\n",
       "  </tbody>\n",
       "</table>\n",
       "</div>"
      ],
      "text/plain": [
       "Empty DataFrame\n",
       "Columns: [invoice_no, stockcode, description, quantity, invoice_date, unitprice, customer_id, country]\n",
       "Index: []"
      ]
     },
     "execution_count": 18,
     "metadata": {},
     "output_type": "execute_result"
    }
   ],
   "source": [
    "matching_invoice = missing_customer_id.loc[missing_customer_id['invoice_no'].isin(valid_customer_id['invoice_no'])]\n",
    "matching_invoice"
   ]
  },
  {
   "cell_type": "code",
   "execution_count": 19,
   "metadata": {},
   "outputs": [
    {
     "name": "stderr",
     "output_type": "stream",
     "text": [
      "C:\\Users\\DELL PC\\AppData\\Local\\Temp\\ipykernel_5768\\878829968.py:2: SettingWithCopyWarning: \n",
      "A value is trying to be set on a copy of a slice from a DataFrame.\n",
      "Try using .loc[row_indexer,col_indexer] = value instead\n",
      "\n",
      "See the caveats in the documentation: https://pandas.pydata.org/pandas-docs/stable/user_guide/indexing.html#returning-a-view-versus-a-copy\n",
      "  missing_customer_id['customer_id'] = 'u'+unregistered_customers\n"
     ]
    },
    {
     "data": {
      "text/html": [
       "<div>\n",
       "<style scoped>\n",
       "    .dataframe tbody tr th:only-of-type {\n",
       "        vertical-align: middle;\n",
       "    }\n",
       "\n",
       "    .dataframe tbody tr th {\n",
       "        vertical-align: top;\n",
       "    }\n",
       "\n",
       "    .dataframe thead th {\n",
       "        text-align: right;\n",
       "    }\n",
       "</style>\n",
       "<table border=\"1\" class=\"dataframe\">\n",
       "  <thead>\n",
       "    <tr style=\"text-align: right;\">\n",
       "      <th></th>\n",
       "      <th>invoice_no</th>\n",
       "      <th>stockcode</th>\n",
       "      <th>description</th>\n",
       "      <th>quantity</th>\n",
       "      <th>invoice_date</th>\n",
       "      <th>unitprice</th>\n",
       "      <th>customer_id</th>\n",
       "      <th>country</th>\n",
       "    </tr>\n",
       "  </thead>\n",
       "  <tbody>\n",
       "    <tr>\n",
       "      <th>622</th>\n",
       "      <td>536414</td>\n",
       "      <td>22139</td>\n",
       "      <td>NaN</td>\n",
       "      <td>56</td>\n",
       "      <td>2010-12-01 11:52:00</td>\n",
       "      <td>0.00</td>\n",
       "      <td>u536414</td>\n",
       "      <td>United Kingdom</td>\n",
       "    </tr>\n",
       "    <tr>\n",
       "      <th>1443</th>\n",
       "      <td>536544</td>\n",
       "      <td>21773</td>\n",
       "      <td>DECORATIVE ROSE BATHROOM BOTTLE</td>\n",
       "      <td>1</td>\n",
       "      <td>2010-12-01 14:32:00</td>\n",
       "      <td>2.51</td>\n",
       "      <td>u536544</td>\n",
       "      <td>United Kingdom</td>\n",
       "    </tr>\n",
       "    <tr>\n",
       "      <th>1444</th>\n",
       "      <td>536544</td>\n",
       "      <td>21774</td>\n",
       "      <td>DECORATIVE CATS BATHROOM BOTTLE</td>\n",
       "      <td>2</td>\n",
       "      <td>2010-12-01 14:32:00</td>\n",
       "      <td>2.51</td>\n",
       "      <td>u536544</td>\n",
       "      <td>United Kingdom</td>\n",
       "    </tr>\n",
       "    <tr>\n",
       "      <th>1445</th>\n",
       "      <td>536544</td>\n",
       "      <td>21786</td>\n",
       "      <td>POLKADOT RAIN HAT</td>\n",
       "      <td>4</td>\n",
       "      <td>2010-12-01 14:32:00</td>\n",
       "      <td>0.85</td>\n",
       "      <td>u536544</td>\n",
       "      <td>United Kingdom</td>\n",
       "    </tr>\n",
       "    <tr>\n",
       "      <th>1446</th>\n",
       "      <td>536544</td>\n",
       "      <td>21787</td>\n",
       "      <td>RAIN PONCHO RETROSPOT</td>\n",
       "      <td>2</td>\n",
       "      <td>2010-12-01 14:32:00</td>\n",
       "      <td>1.66</td>\n",
       "      <td>u536544</td>\n",
       "      <td>United Kingdom</td>\n",
       "    </tr>\n",
       "    <tr>\n",
       "      <th>...</th>\n",
       "      <td>...</td>\n",
       "      <td>...</td>\n",
       "      <td>...</td>\n",
       "      <td>...</td>\n",
       "      <td>...</td>\n",
       "      <td>...</td>\n",
       "      <td>...</td>\n",
       "      <td>...</td>\n",
       "    </tr>\n",
       "    <tr>\n",
       "      <th>541536</th>\n",
       "      <td>581498</td>\n",
       "      <td>85099B</td>\n",
       "      <td>JUMBO BAG RED RETROSPOT</td>\n",
       "      <td>5</td>\n",
       "      <td>2011-12-09 10:26:00</td>\n",
       "      <td>4.13</td>\n",
       "      <td>u581498</td>\n",
       "      <td>United Kingdom</td>\n",
       "    </tr>\n",
       "    <tr>\n",
       "      <th>541537</th>\n",
       "      <td>581498</td>\n",
       "      <td>85099C</td>\n",
       "      <td>JUMBO  BAG BAROQUE BLACK WHITE</td>\n",
       "      <td>4</td>\n",
       "      <td>2011-12-09 10:26:00</td>\n",
       "      <td>4.13</td>\n",
       "      <td>u581498</td>\n",
       "      <td>United Kingdom</td>\n",
       "    </tr>\n",
       "    <tr>\n",
       "      <th>541538</th>\n",
       "      <td>581498</td>\n",
       "      <td>85150</td>\n",
       "      <td>LADIES &amp; GENTLEMEN METAL SIGN</td>\n",
       "      <td>1</td>\n",
       "      <td>2011-12-09 10:26:00</td>\n",
       "      <td>4.96</td>\n",
       "      <td>u581498</td>\n",
       "      <td>United Kingdom</td>\n",
       "    </tr>\n",
       "    <tr>\n",
       "      <th>541539</th>\n",
       "      <td>581498</td>\n",
       "      <td>85174</td>\n",
       "      <td>S/4 CACTI CANDLES</td>\n",
       "      <td>1</td>\n",
       "      <td>2011-12-09 10:26:00</td>\n",
       "      <td>10.79</td>\n",
       "      <td>u581498</td>\n",
       "      <td>United Kingdom</td>\n",
       "    </tr>\n",
       "    <tr>\n",
       "      <th>541540</th>\n",
       "      <td>581498</td>\n",
       "      <td>DOT</td>\n",
       "      <td>DOTCOM POSTAGE</td>\n",
       "      <td>1</td>\n",
       "      <td>2011-12-09 10:26:00</td>\n",
       "      <td>1714.17</td>\n",
       "      <td>u581498</td>\n",
       "      <td>United Kingdom</td>\n",
       "    </tr>\n",
       "  </tbody>\n",
       "</table>\n",
       "<p>135037 rows × 8 columns</p>\n",
       "</div>"
      ],
      "text/plain": [
       "       invoice_no stockcode                      description  quantity  \\\n",
       "622        536414     22139                              NaN        56   \n",
       "1443       536544     21773  DECORATIVE ROSE BATHROOM BOTTLE         1   \n",
       "1444       536544     21774  DECORATIVE CATS BATHROOM BOTTLE         2   \n",
       "1445       536544     21786               POLKADOT RAIN HAT          4   \n",
       "1446       536544     21787            RAIN PONCHO RETROSPOT         2   \n",
       "...           ...       ...                              ...       ...   \n",
       "541536     581498    85099B          JUMBO BAG RED RETROSPOT         5   \n",
       "541537     581498    85099C   JUMBO  BAG BAROQUE BLACK WHITE         4   \n",
       "541538     581498     85150    LADIES & GENTLEMEN METAL SIGN         1   \n",
       "541539     581498     85174                S/4 CACTI CANDLES         1   \n",
       "541540     581498       DOT                   DOTCOM POSTAGE         1   \n",
       "\n",
       "              invoice_date  unitprice customer_id         country  \n",
       "622    2010-12-01 11:52:00       0.00     u536414  United Kingdom  \n",
       "1443   2010-12-01 14:32:00       2.51     u536544  United Kingdom  \n",
       "1444   2010-12-01 14:32:00       2.51     u536544  United Kingdom  \n",
       "1445   2010-12-01 14:32:00       0.85     u536544  United Kingdom  \n",
       "1446   2010-12-01 14:32:00       1.66     u536544  United Kingdom  \n",
       "...                    ...        ...         ...             ...  \n",
       "541536 2011-12-09 10:26:00       4.13     u581498  United Kingdom  \n",
       "541537 2011-12-09 10:26:00       4.13     u581498  United Kingdom  \n",
       "541538 2011-12-09 10:26:00       4.96     u581498  United Kingdom  \n",
       "541539 2011-12-09 10:26:00      10.79     u581498  United Kingdom  \n",
       "541540 2011-12-09 10:26:00    1714.17     u581498  United Kingdom  \n",
       "\n",
       "[135037 rows x 8 columns]"
      ]
     },
     "execution_count": 19,
     "metadata": {},
     "output_type": "execute_result"
    }
   ],
   "source": [
    "unregistered_customers = clean_df.loc[missing_customer_id.index, \"invoice_no\"]\n",
    "missing_customer_id['customer_id'] = 'u'+unregistered_customers\n",
    "missing_customer_id"
   ]
  },
  {
   "cell_type": "code",
   "execution_count": 20,
   "metadata": {},
   "outputs": [
    {
     "name": "stderr",
     "output_type": "stream",
     "text": [
      "C:\\Users\\DELL PC\\AppData\\Local\\Temp\\ipykernel_5768\\918618111.py:1: FutureWarning: Setting an item of incompatible dtype is deprecated and will raise in a future error of pandas. Value '['u536414' 'u536544' 'u536544' ... 'u581498' 'u581498' 'u581498']' has dtype incompatible with float64, please explicitly cast to a compatible dtype first.\n",
      "  clean_df.loc[missing_customer_id.index] = missing_customer_id\n"
     ]
    },
    {
     "data": {
      "text/plain": [
       "invoice_no         0\n",
       "stockcode          0\n",
       "description     1454\n",
       "quantity           0\n",
       "invoice_date       0\n",
       "unitprice          0\n",
       "customer_id        0\n",
       "country            0\n",
       "dtype: int64"
      ]
     },
     "execution_count": 20,
     "metadata": {},
     "output_type": "execute_result"
    }
   ],
   "source": [
    "clean_df.loc[missing_customer_id.index] = missing_customer_id\n",
    "clean_df.isna().sum()"
   ]
  }
 ],
 "metadata": {
  "kernelspec": {
   "display_name": "databases_env",
   "language": "python",
   "name": "python3"
  },
  "language_info": {
   "codemirror_mode": {
    "name": "ipython",
    "version": 3
   },
   "file_extension": ".py",
   "mimetype": "text/x-python",
   "name": "python",
   "nbconvert_exporter": "python",
   "pygments_lexer": "ipython3",
   "version": "3.11.5"
  }
 },
 "nbformat": 4,
 "nbformat_minor": 2
}
